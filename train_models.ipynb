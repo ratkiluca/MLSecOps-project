{
 "cells": [
  {
   "cell_type": "code",
   "execution_count": 1,
   "id": "e6231eba",
   "metadata": {},
   "outputs": [
    {
     "name": "stderr",
     "output_type": "stream",
     "text": [
      "/home/luca/Documents/hazifeladatok/MSc/MLSecOps/MLSecOps-project/.venv/lib64/python3.10/site-packages/tqdm/auto.py:21: TqdmWarning: IProgress not found. Please update jupyter and ipywidgets. See https://ipywidgets.readthedocs.io/en/stable/user_install.html\n",
      "  from .autonotebook import tqdm as notebook_tqdm\n",
      "2025-05-06 13:28:14.798051: E external/local_xla/xla/stream_executor/cuda/cuda_fft.cc:467] Unable to register cuFFT factory: Attempting to register factory for plugin cuFFT when one has already been registered\n",
      "WARNING: All log messages before absl::InitializeLog() is called are written to STDERR\n",
      "E0000 00:00:1746530894.829618  117136 cuda_dnn.cc:8579] Unable to register cuDNN factory: Attempting to register factory for plugin cuDNN when one has already been registered\n",
      "E0000 00:00:1746530894.838359  117136 cuda_blas.cc:1407] Unable to register cuBLAS factory: Attempting to register factory for plugin cuBLAS when one has already been registered\n",
      "W0000 00:00:1746530894.860217  117136 computation_placer.cc:177] computation placer already registered. Please check linkage and avoid linking the same target more than once.\n",
      "W0000 00:00:1746530894.860266  117136 computation_placer.cc:177] computation placer already registered. Please check linkage and avoid linking the same target more than once.\n",
      "W0000 00:00:1746530894.860271  117136 computation_placer.cc:177] computation placer already registered. Please check linkage and avoid linking the same target more than once.\n",
      "W0000 00:00:1746530894.860275  117136 computation_placer.cc:177] computation placer already registered. Please check linkage and avoid linking the same target more than once.\n",
      "2025-05-06 13:28:14.867139: I tensorflow/core/platform/cpu_feature_guard.cc:210] This TensorFlow binary is optimized to use available CPU instructions in performance-critical operations.\n",
      "To enable the following instructions: AVX2 FMA, in other operations, rebuild TensorFlow with the appropriate compiler flags.\n"
     ]
    }
   ],
   "source": [
    "# 1. Csomagok importálása\n",
    "from transformers import pipeline\n",
    "from datasets import load_dataset\n",
    "import pandas as pd\n",
    "import mlflow\n",
    "import os"
   ]
  },
  {
   "cell_type": "code",
   "execution_count": null,
   "id": "2295949e",
   "metadata": {},
   "outputs": [
    {
     "name": "stderr",
     "output_type": "stream",
     "text": [
      "/home/luca/Documents/hazifeladatok/MSc/MLSecOps/MLSecOps-project/.venv/lib64/python3.10/site-packages/tqdm/auto.py:21: TqdmWarning: IProgress not found. Please update jupyter and ipywidgets. See https://ipywidgets.readthedocs.io/en/stable/user_install.html\n",
      "  from .autonotebook import tqdm as notebook_tqdm\n",
      "2025-05-05 11:49:33.621687: E external/local_xla/xla/stream_executor/cuda/cuda_fft.cc:467] Unable to register cuFFT factory: Attempting to register factory for plugin cuFFT when one has already been registered\n",
      "WARNING: All log messages before absl::InitializeLog() is called are written to STDERR\n",
      "E0000 00:00:1746438573.789626   56231 cuda_dnn.cc:8579] Unable to register cuDNN factory: Attempting to register factory for plugin cuDNN when one has already been registered\n",
      "E0000 00:00:1746438573.823978   56231 cuda_blas.cc:1407] Unable to register cuBLAS factory: Attempting to register factory for plugin cuBLAS when one has already been registered\n",
      "W0000 00:00:1746438574.261279   56231 computation_placer.cc:177] computation placer already registered. Please check linkage and avoid linking the same target more than once.\n",
      "W0000 00:00:1746438574.261317   56231 computation_placer.cc:177] computation placer already registered. Please check linkage and avoid linking the same target more than once.\n",
      "W0000 00:00:1746438574.261320   56231 computation_placer.cc:177] computation placer already registered. Please check linkage and avoid linking the same target more than once.\n",
      "W0000 00:00:1746438574.261323   56231 computation_placer.cc:177] computation placer already registered. Please check linkage and avoid linking the same target more than once.\n",
      "2025-05-05 11:49:34.278016: I tensorflow/core/platform/cpu_feature_guard.cc:210] This TensorFlow binary is optimized to use available CPU instructions in performance-critical operations.\n",
      "To enable the following instructions: AVX2 FMA, in other operations, rebuild TensorFlow with the appropriate compiler flags.\n",
      "Xet Storage is enabled for this repo, but the 'hf_xet' package is not installed. Falling back to regular HTTP download. For better performance, install the package with: `pip install huggingface_hub[hf_xet]` or `pip install hf_xet`\n",
      "Device set to use cpu\n",
      "2025/05/05 11:50:18 INFO mlflow.tracking.fluent: Experiment with name 'sentiment_analysis' does not exist. Creating a new experiment.\n"
     ]
    },
    {
     "name": "stdout",
     "output_type": "stream",
     "text": [
      "Pontosság: 0.9300\n"
     ]
    }
   ],
   "source": [
    "# 2. Adat betöltése (IMDB, 1000 minta a gyors teszt kedvéért)\n",
    "dataset = load_dataset(\"imdb\", split=\"train[:100]\")\n",
    "texts = dataset[\"text\"]\n",
    "labels = dataset[\"label\"]  # 0 = negatív, 1 = pozitív\n",
    "\n",
    "# 3. Sentiment pipeline betöltése\n",
    "model = pipeline(\n",
    "    model=\"distilbert-base-uncased-finetuned-sst-2-english\", task=\"sentiment-analysis\"\n",
    ")\n",
    "\n",
    "# 4. Predikciók futtatása\n",
    "# Add truncation and padding to handle varying sequence lengths\n",
    "results = model(texts, truncation=True, padding=True)\n",
    "\n",
    "# 5. Eredmények feldolgozása\n",
    "pred_labels = [1 if r[\"label\"] == \"POSITIVE\" else 0 for r in results]\n",
    "\n",
    "# 6. Pontosság kiértékelése\n",
    "from sklearn.metrics import accuracy_score\n",
    "\n",
    "acc = accuracy_score(labels, pred_labels)\n",
    "print(f\"Pontosság: {acc:.4f}\")\n",
    "\n",
    "# 7. MLflow loggolás\n",
    "mlflow.set_experiment(\"sentiment_analysis\")\n",
    "\n",
    "with mlflow.start_run():\n",
    "    mlflow.log_param(\"model\", \"distilbert-base-uncased-finetuned-sst-2-english\")\n",
    "    mlflow.log_metric(\"accuracy\", acc)\n",
    "\n",
    "    # Modell mentése későbbi betöltéshez\n",
    "    save_path = \"model/\"\n",
    "    model.save_pretrained(save_path)\n",
    "    mlflow.log_artifacts(save_path, artifact_path=\"model\")\n",
    "\n",
    "# 8. Predikciók mentése CSV-be (baseline számára)\n",
    "df_preds = pd.DataFrame(\n",
    "    {\"text\": texts, \"true_label\": labels, \"pred_label\": pred_labels}\n",
    ")\n",
    "df_preds.to_csv(\"predictions/baseline_predictions.csv\", index=False)"
   ]
  }
 ],
 "metadata": {
  "kernelspec": {
   "display_name": ".venv",
   "language": "python",
   "name": "python3"
  },
  "language_info": {
   "codemirror_mode": {
    "name": "ipython",
    "version": 3
   },
   "file_extension": ".py",
   "mimetype": "text/x-python",
   "name": "python",
   "nbconvert_exporter": "python",
   "pygments_lexer": "ipython3",
   "version": "3.10.16"
  }
 },
 "nbformat": 4,
 "nbformat_minor": 5
}
